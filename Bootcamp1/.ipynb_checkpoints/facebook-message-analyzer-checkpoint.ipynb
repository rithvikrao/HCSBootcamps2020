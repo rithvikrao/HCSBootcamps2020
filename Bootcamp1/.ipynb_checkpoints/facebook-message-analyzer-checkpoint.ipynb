{
 "cells": [
  {
   "cell_type": "code",
   "execution_count": 20,
   "metadata": {},
   "outputs": [],
   "source": [
    "# Facebook data mining bootcamp !!!\n",
    "\n",
    "# important imports \n",
    "import os\n",
    "import json\n",
    "import numpy as np\n",
    "import pylab as pl\n",
    "import datetime\n",
    "from datetime import datetime\n"
   ]
  },
  {
   "cell_type": "code",
   "execution_count": 40,
   "metadata": {},
   "outputs": [],
   "source": [
    "# globals \n",
    "\n",
    "CURRENT_DIRECTORY = os.getcwd()\n",
    "NUMBER_TO_ANALYZE = 700\n",
    "MESSAGE_THRESHOLD = 50\n",
    "MESSAGE_BOUND = 100000\n"
   ]
  },
  {
   "cell_type": "code",
   "execution_count": 41,
   "metadata": {},
   "outputs": [
    {
     "name": "stdout",
     "output_type": "stream",
     "text": [
      "Analyzing 130 chats...\n"
     ]
    }
   ],
   "source": [
    "# get json data for the individual chats in your messages folder \n",
    "\n",
    "def get_json_data(chat):\n",
    "    try:\n",
    "        # you may need to change the directory path, depends on where you've downloaded your fb messages to. \n",
    "        json_location = CURRENT_DIRECTORY + \"/messages/inbox/\" + chat + \"/message.json\"\n",
    "        with open(json_location) as json_file:\n",
    "            json_data = json.load(json_file)\n",
    "            return json_data\n",
    "    except IOError:\n",
    "        pass # some things the directory aren't messages (DS_Store, stickers_used, etc.)\n",
    "\n",
    "\n",
    "    \n",
    "# create new globals for data to be plotted \n",
    "chats = os.listdir(CURRENT_DIRECTORY + \"/messages/inbox\")[:NUMBER_TO_ANALYZE]\n",
    "sorted_chats = []\n",
    "final_data_messages = {}\n",
    "final_data_times = {}\n",
    "final_data_words = {}\n",
    "invalid_message_count = 0\n",
    "\n",
    "\n",
    "\n",
    "print('Analyzing ' + str(min(NUMBER_TO_ANALYZE, len(chats))) + ' chats...')\n"
   ]
  },
  {
   "cell_type": "code",
   "execution_count": 42,
   "metadata": {},
   "outputs": [
    {
     "name": "stdout",
     "output_type": "stream",
     "text": [
      "Finished processing chats...\n"
     ]
    }
   ],
   "source": [
    "# sort data into new gobals \n",
    "\n",
    "for chat in chats:\n",
    "    url = chat\n",
    "    json_data = get_json_data(chat)\n",
    "\n",
    "    if json_data != None:\n",
    "        messages = json_data[\"messages\"]\n",
    "        if len(messages) >= MESSAGE_THRESHOLD and len(messages) <= MESSAGE_BOUND:\n",
    "            sorted_chats.append((len(messages), chat, messages))\n",
    "\n",
    "sorted_chats.sort(reverse=True)\n",
    "\n",
    "print('Finished processing chats...')"
   ]
  },
  {
   "cell_type": "code",
   "execution_count": 43,
   "metadata": {},
   "outputs": [
    {
     "name": "stdout",
     "output_type": "stream",
     "text": [
      "0 - 8149 messages - burritogentlemen_9zqn06g85q\n",
      "1 - 6186 messages - albertliu_04pmeyoj8q\n",
      "2 - 4297 messages - annaeaton_akusvoz9pa\n",
      "3 - 3279 messages - stanfordsummer_veeigzafaa\n",
      "4 - 2622 messages - crlscs50fall2018_q-2pf21u7g\n",
      "5 - 1615 messages - tonyjiang_icimzl-wva\n",
      "6 - 1424 messages - philoskim_vvz_vc2wrg\n",
      "7 - 1163 messages - phoenixtamaoki_bq1rr3qxmq\n",
      "8 - 394 messages - soccerthursdayaugust857pm_cq5v2kllsq\n",
      "9 - 375 messages - thomasmcnulty_kpoiaibgmq\n",
      "10 - 309 messages - beach68_uccuwfjr6w\n",
      "11 - 306 messages - sumedhrathi_1yi0km_e_q\n",
      "12 - 241 messages - prepromphotos_els1b8izga\n",
      "13 - 231 messages - josephineandmai_oj3bu5vj9a\n",
      "14 - 145 messages - albertandsakib_u0ns5gc9ig\n",
      "15 - 130 messages - channingtatum_32kub53neg\n",
      "16 - 125 messages - deleted_190bclxvtq\n",
      "17 - 119 messages - finalkaraoke81619_x0f84x8dzw\n",
      "18 - 106 messages - mainguyen_xhwwcpgbzw\n",
      "19 - 104 messages - simonnicholson_g-7dnudpog\n",
      "20 - 97 messages - sakibasraf_bf3bvkxf5q\n",
      "21 - 97 messages - michaelsimonalbertandxander_qlsut3905a\n",
      "22 - 94 messages - shreyasiyer_9ika9t0arq\n",
      "23 - 84 messages - albertphilosandsakib_n6ztr7pfvw\n",
      "24 - 83 messages - alfredtaylor_n9bvhhd5dg\n",
      "25 - 77 messages - liamhall_wtzp0olpjq\n",
      "26 - 72 messages - aidanrichards_nlvwsgvpza\n",
      "27 - 69 messages - juliettelowfleury_5mwix6b0ew\n",
      "28 - 55 messages - avatarmarathon_j_3bklr0pq\n",
      "29 - 54 messages - oscarberry_dokxon7vvw\n",
      "Found 1116 invalid messages...\n",
      "Found 30 chats with 50 messages or more\n"
     ]
    }
   ],
   "source": [
    "# continue sorting messages into the new globals (dictionaries)\n",
    "# you may have to alter this code a bit depending on what functions you would like to add\n",
    "\n",
    "\n",
    "for i, (messages, chat, messages) in enumerate(sorted_chats):\n",
    "    number_messages = {}\n",
    "    person_to_times = {}\n",
    "    number_words = {}\n",
    "\n",
    "    print(str(i) + \" - \" + str(len(messages)) + \" messages - \" + str(chat))\n",
    "\n",
    "    for message in messages:\n",
    "        try:\n",
    "            name = message[\"sender_name\"]\n",
    "            time = message[\"timestamp_ms\"]\n",
    "            message_content = message[\"content\"]\n",
    "\n",
    "            number_messages[name] = number_messages.get(name, 0)\n",
    "            number_messages[name] += 1\n",
    "\n",
    "            person_to_times[name] = person_to_times.get(name, [])\n",
    "            person_to_times[name].append(datetime.utcfromtimestamp(time/1000.0))\n",
    "\n",
    "            number_words[name] = number_words.get(name, [])\n",
    "            number_words[name].append(len(message_content.split()))\n",
    "        except KeyError:\n",
    "            # happens for special cases like users who deactivated, unfriended, blocked\n",
    "            invalid_message_count += 1\n",
    "\n",
    "    final_data_messages[i] = number_messages\n",
    "    final_data_times[i] = person_to_times\n",
    "    final_data_words[i] = number_words\n",
    "\n",
    "    \n",
    "\n",
    "print('Found ' + str(invalid_message_count) + ' invalid messages...')\n",
    "print('Found ' + str(len(sorted_chats)) + ' chats with ' + str(MESSAGE_THRESHOLD) + ' messages or more')"
   ]
  },
  {
   "cell_type": "code",
   "execution_count": 45,
   "metadata": {},
   "outputs": [
    {
     "data": {
      "image/png": "[encoded data removed]",
      "text/plain": [
       "<Figure size 432x288 with 1 Axes>"
      ]
     },
     "metadata": {
      "needs_background": "light"
     },
     "output_type": "display_data"
    }
   ],
   "source": [
    "# plotting functions\n",
    "\n",
    "\n",
    "def plot_num_messages(chat_number):\n",
    "    plotted_data = final_data_messages[chat_number]\n",
    "    X = np.arange(len(plotted_data))\n",
    "    pl.bar(X, list(plotted_data.values()), align='center', width=0.5, color = 'r', bottom = 0.3)\n",
    "    pl.xticks(X, plotted_data.keys(), rotation = 90)\n",
    "    pl.title('Number of Messages Sent')\n",
    "    pl.tight_layout()\n",
    "    pl.show()\n",
    "    \n",
    "    \n",
    "def plot_histogram_time(chat_number):\n",
    "    person_to_times = final_data_times[chat_number]\n",
    "    pl.xlabel('Time')\n",
    "    pl.ylabel('Number of Messages')\n",
    "    pl.title('# of Messages Over Time')\n",
    "    colors = ['b', 'r', 'c', 'm', 'y', 'k', 'w', 'g']\n",
    "    for i , person in enumerate(person_to_times):\n",
    "        plotted_data = []\n",
    "        for time in person_to_times[person]:\n",
    "            plotted_data.append(time)\n",
    "        pl.hist(plotted_data, 100, alpha=0.3, label=person, facecolor=colors[i % len(colors)])\n",
    "    pl.legend()\n",
    "    pl.xticks(rotation=90)\n",
    "    pl.tight_layout()\n",
    "    pl.show()\n",
    "\n",
    "    \n",
    "def plot_histogram_words(chat_number):\n",
    "    temp = {}\n",
    "    for person in final_data_words[chat_number]:\n",
    "        temp[person] = np.average(final_data_words[chat_number][person])\n",
    "    plotted_data = temp\n",
    "    X = np.arange(len(plotted_data))\n",
    "    pl.bar(X, list(plotted_data.values()), align='center', width=0.5, color = 'r', bottom = 0.3)\n",
    "    pl.xticks(X, plotted_data.keys(), rotation = 90)\n",
    "    pl.title('Average Word Count')\n",
    "    pl.tight_layout()\n",
    "    pl.show()\n",
    "    \n",
    "def plot(chat_number):\n",
    "    #plot_num_messages(chat_number)\n",
    "    plot_histogram_time(chat_number)\n",
    "    #plot_histogram_words(chat_number)\n",
    "\n",
    "\n",
    "\n",
    "plot(29)"
   ]
  },
  {
   "cell_type": "code",
   "execution_count": null,
   "metadata": {},
   "outputs": [],
   "source": []
  }
 ],
 "metadata": {
  "kernelspec": {
   "display_name": "Python 3",
   "language": "python",
   "name": "python3"
  },
  "language_info": {
   "codemirror_mode": {
    "name": "ipython",
    "version": 3
   },
   "file_extension": ".py",
   "mimetype": "text/x-python",
   "name": "python",
   "nbconvert_exporter": "python",
   "pygments_lexer": "ipython3",
   "version": "3.7.1"
  }
 },
 "nbformat": 4,
 "nbformat_minor": 2
}
